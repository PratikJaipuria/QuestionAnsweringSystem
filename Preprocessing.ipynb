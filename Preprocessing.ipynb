{
 "cells": [
  {
   "cell_type": "code",
   "execution_count": 1,
   "metadata": {
    "collapsed": true
   },
   "outputs": [],
   "source": [
    "import json\n",
    "import pandas as pd\n",
    "import re\n",
    "from glove import Corpus, Glove"
   ]
  },
  {
   "cell_type": "code",
   "execution_count": 2,
   "metadata": {
    "collapsed": true
   },
   "outputs": [],
   "source": [
    "df = pd.read_json(\"dataset/train-v1.1.json\", encoding=\"utf-8\")"
   ]
  },
  {
   "cell_type": "code",
   "execution_count": 3,
   "metadata": {},
   "outputs": [
    {
     "data": {
      "text/html": [
       "<div>\n",
       "<style>\n",
       "    .dataframe thead tr:only-child th {\n",
       "        text-align: right;\n",
       "    }\n",
       "\n",
       "    .dataframe thead th {\n",
       "        text-align: left;\n",
       "    }\n",
       "\n",
       "    .dataframe tbody tr th {\n",
       "        vertical-align: top;\n",
       "    }\n",
       "</style>\n",
       "<table border=\"1\" class=\"dataframe\">\n",
       "  <thead>\n",
       "    <tr style=\"text-align: right;\">\n",
       "      <th></th>\n",
       "      <th>data</th>\n",
       "      <th>version</th>\n",
       "    </tr>\n",
       "  </thead>\n",
       "  <tbody>\n",
       "    <tr>\n",
       "      <th>0</th>\n",
       "      <td>{'title': 'University_of_Notre_Dame', 'paragra...</td>\n",
       "      <td>1.1</td>\n",
       "    </tr>\n",
       "    <tr>\n",
       "      <th>1</th>\n",
       "      <td>{'title': 'Beyoncé', 'paragraphs': [{'context'...</td>\n",
       "      <td>1.1</td>\n",
       "    </tr>\n",
       "    <tr>\n",
       "      <th>2</th>\n",
       "      <td>{'title': 'Montana', 'paragraphs': [{'context'...</td>\n",
       "      <td>1.1</td>\n",
       "    </tr>\n",
       "    <tr>\n",
       "      <th>3</th>\n",
       "      <td>{'title': 'Genocide', 'paragraphs': [{'context...</td>\n",
       "      <td>1.1</td>\n",
       "    </tr>\n",
       "    <tr>\n",
       "      <th>4</th>\n",
       "      <td>{'title': 'Antibiotics', 'paragraphs': [{'cont...</td>\n",
       "      <td>1.1</td>\n",
       "    </tr>\n",
       "  </tbody>\n",
       "</table>\n",
       "</div>"
      ],
      "text/plain": [
       "                                                data  version\n",
       "0  {'title': 'University_of_Notre_Dame', 'paragra...      1.1\n",
       "1  {'title': 'Beyoncé', 'paragraphs': [{'context'...      1.1\n",
       "2  {'title': 'Montana', 'paragraphs': [{'context'...      1.1\n",
       "3  {'title': 'Genocide', 'paragraphs': [{'context...      1.1\n",
       "4  {'title': 'Antibiotics', 'paragraphs': [{'cont...      1.1"
      ]
     },
     "execution_count": 3,
     "metadata": {},
     "output_type": "execute_result"
    }
   ],
   "source": [
    "df.head()"
   ]
  },
  {
   "cell_type": "code",
   "execution_count": 4,
   "metadata": {},
   "outputs": [
    {
     "data": {
      "text/plain": [
       "0    {'title': 'University_of_Notre_Dame', 'paragra...\n",
       "Name: data, dtype: object"
      ]
     },
     "execution_count": 4,
     "metadata": {},
     "output_type": "execute_result"
    }
   ],
   "source": [
    "df[0:1]['data']"
   ]
  },
  {
   "cell_type": "code",
   "execution_count": 5,
   "metadata": {},
   "outputs": [
    {
     "data": {
      "text/plain": [
       "{'context': 'At the age of 21 he settled in Paris. Thereafter, during the last 18 years of his life, he gave only some 30 public performances, preferring the more intimate atmosphere of the salon. He supported himself by selling his compositions and teaching piano, for which he was in high demand. Chopin formed a friendship with Franz Liszt and was admired by many of his musical contemporaries, including Robert Schumann. In 1835 he obtained French citizenship. After a failed engagement to Maria Wodzińska, from 1837 to 1847 he maintained an often troubled relationship with the French writer George Sand. A brief and unhappy visit to Majorca with Sand in 1838–39 was one of his most productive periods of composition. In his last years, he was financially supported by his admirer Jane Stirling, who also arranged for him to visit Scotland in 1848. Through most of his life, Chopin suffered from poor health. He died in Paris in 1849, probably of tuberculosis.',\n",
       " 'qas': [{'answers': [{'answer_start': 14, 'text': '21'}],\n",
       "   'id': '56cbd2f96d243a140015ed70',\n",
       "   'question': 'At what age did Frédéric move to Paris?'},\n",
       "  {'answers': [{'answer_start': 106, 'text': '30'}],\n",
       "   'id': '56cbd2f96d243a140015ed71',\n",
       "   'question': 'How many public performances was Frédéric estimated to have given during the remainder of his life?'},\n",
       "  {'answers': [{'answer_start': 415, 'text': '1835'}],\n",
       "   'id': '56cbd2f96d243a140015ed72',\n",
       "   'question': 'In what year did Frédéric obtain citizenship in France?'},\n",
       "  {'answers': [{'answer_start': 626, 'text': 'Majorca'}],\n",
       "   'id': '56cbd2f96d243a140015ed73',\n",
       "   'question': \"In what area had Frédéric's most productive period of composition taken place?\"},\n",
       "  {'answers': [{'answer_start': 939, 'text': 'tuberculosis'}],\n",
       "   'id': '56cbd2f96d243a140015ed74',\n",
       "   'question': \"What was Frédéric's most likely cause of death?\"},\n",
       "  {'answers': [{'answer_start': 31, 'text': 'Paris'}],\n",
       "   'id': '56ce0d8662d2951400fa69e8',\n",
       "   'question': 'Where did he end up living when he was 21?'},\n",
       "  {'answers': [{'answer_start': 106, 'text': '30'}],\n",
       "   'id': '56ce0d8662d2951400fa69e9',\n",
       "   'question': 'How many public shows did he perform during the last years of his life?'},\n",
       "  {'answers': [{'answer_start': 318, 'text': 'Franz Liszt'}],\n",
       "   'id': '56ce0d8662d2951400fa69ea',\n",
       "   'question': 'What other composer did Chopin develop a friendship with?'},\n",
       "  {'answers': [{'answer_start': 415, 'text': '1835'}],\n",
       "   'id': '56ce0d8662d2951400fa69eb',\n",
       "   'question': 'What year did he gain citizenship in France?'},\n",
       "  {'answers': [{'answer_start': 481, 'text': 'Maria Wodzińska'}],\n",
       "   'id': '56ce0d8662d2951400fa69ec',\n",
       "   'question': 'What is the name of the woman he had a relationship with from 1837-847?'},\n",
       "  {'answers': [{'answer_start': 14, 'text': '21'}],\n",
       "   'id': '56cf5734aab44d1400b89079',\n",
       "   'question': 'At what age did Chopin move to Paris?'},\n",
       "  {'answers': [{'answer_start': 106, 'text': '30'}],\n",
       "   'id': '56cf5734aab44d1400b8907a',\n",
       "   'question': 'During the last 18 years he lived about how many times did Chopin perform in public?'},\n",
       "  {'answers': [{'answer_start': 415, 'text': '1835'}],\n",
       "   'id': '56cf5734aab44d1400b8907c',\n",
       "   'question': 'What year did Chopin become a citizen of France?'},\n",
       "  {'answers': [{'answer_start': 773, 'text': 'Jane Stirling'}],\n",
       "   'id': '56cf5734aab44d1400b8907d',\n",
       "   'question': 'In the last years of his life who was the person that supported him financially?'},\n",
       "  {'answers': [{'answer_start': 415, 'text': '1835'}],\n",
       "   'id': '56d1cd98e7d4791d009021e6',\n",
       "   'question': 'In what year did Chopin become a French citizen?'},\n",
       "  {'answers': [{'answer_start': 773, 'text': 'Jane Stirling'}],\n",
       "   'id': '56d1cd98e7d4791d009021e7',\n",
       "   'question': 'Who gave Chopin money in the last years of his life?'},\n",
       "  {'answers': [{'answer_start': 939, 'text': 'tuberculosis'}],\n",
       "   'id': '56d1cd98e7d4791d009021e8',\n",
       "   'question': 'What was the likely cause of death for Chopin?'}]}"
      ]
     },
     "execution_count": 5,
     "metadata": {},
     "output_type": "execute_result"
    }
   ],
   "source": [
    "df.iloc[5]['data']['paragraphs'][1]"
   ]
  },
  {
   "cell_type": "code",
   "execution_count": 7,
   "metadata": {
    "collapsed": true
   },
   "outputs": [],
   "source": [
    "words = []\n",
    "sentences = \"\"\n",
    "for index, row in df.iterrows():    \n",
    "    for each_para_list in row['data']['paragraphs']:\n",
    "        words.extend(each_para_list['context'].strip().split())\n",
    "        sentences = sentences + each_para_list['context']\n",
    "        for each_qas in each_para_list['qas']:\n",
    "            words.extend(each_qas['question'].strip().split())\n",
    "            sentences = sentences + each_qas['question']\n",
    "    [w for w in words if w]"
   ]
  },
  {
   "cell_type": "code",
   "execution_count": 8,
   "metadata": {
    "collapsed": true
   },
   "outputs": [],
   "source": [
    "vocab = {}\n",
    "for w in words:\n",
    "    if w in vocab:\n",
    "        vocab[w] += 1\n",
    "    else:\n",
    "        vocab[w] = 1"
   ]
  },
  {
   "cell_type": "code",
   "execution_count": 9,
   "metadata": {
    "collapsed": true
   },
   "outputs": [],
   "source": [
    "vocab_list = sorted(vocab, key=vocab.get, reverse=True)"
   ]
  },
  {
   "cell_type": "code",
   "execution_count": 11,
   "metadata": {},
   "outputs": [
    {
     "ename": "TypeError",
     "evalue": "Expected list, got str",
     "output_type": "error",
     "traceback": [
      "\u001b[1;31m---------------------------------------------------------------------------\u001b[0m",
      "\u001b[1;31mTypeError\u001b[0m                                 Traceback (most recent call last)",
      "\u001b[1;32m<ipython-input-11-cabee99d3e5f>\u001b[0m in \u001b[0;36m<module>\u001b[1;34m()\u001b[0m\n\u001b[0;32m      1\u001b[0m \u001b[0mcorpus\u001b[0m \u001b[1;33m=\u001b[0m \u001b[0mCorpus\u001b[0m\u001b[1;33m(\u001b[0m\u001b[1;33m)\u001b[0m\u001b[1;33m\u001b[0m\u001b[0m\n\u001b[1;32m----> 2\u001b[1;33m \u001b[0mcorpus\u001b[0m\u001b[1;33m.\u001b[0m\u001b[0mfit\u001b[0m\u001b[1;33m(\u001b[0m\u001b[0msentences\u001b[0m\u001b[1;33m,\u001b[0m\u001b[0mwindow\u001b[0m\u001b[1;33m=\u001b[0m\u001b[1;36m10\u001b[0m\u001b[1;33m)\u001b[0m\u001b[1;33m\u001b[0m\u001b[0m\n\u001b[0m\u001b[0;32m      3\u001b[0m \u001b[1;33m\u001b[0m\u001b[0m\n\u001b[0;32m      4\u001b[0m \u001b[1;31m# glove = Glove(no_components=100, learning_rate=0.05)\u001b[0m\u001b[1;33m\u001b[0m\u001b[1;33m\u001b[0m\u001b[0m\n\u001b[0;32m      5\u001b[0m \u001b[1;33m\u001b[0m\u001b[0m\n",
      "\u001b[1;32mC:\\ProgramData\\Anaconda3\\lib\\site-packages\\glove_python-0.1.0-py3.6-win-amd64.egg\\glove\\corpus.py\u001b[0m in \u001b[0;36mfit\u001b[1;34m(self, corpus, window, ignore_missing)\u001b[0m\n\u001b[0;32m     62\u001b[0m                                                     \u001b[0mint\u001b[0m\u001b[1;33m(\u001b[0m\u001b[0mself\u001b[0m\u001b[1;33m.\u001b[0m\u001b[0mdictionary_supplied\u001b[0m\u001b[1;33m)\u001b[0m\u001b[1;33m,\u001b[0m\u001b[1;33m\u001b[0m\u001b[0m\n\u001b[0;32m     63\u001b[0m                                                     \u001b[0mint\u001b[0m\u001b[1;33m(\u001b[0m\u001b[0mwindow\u001b[0m\u001b[1;33m)\u001b[0m\u001b[1;33m,\u001b[0m\u001b[1;33m\u001b[0m\u001b[0m\n\u001b[1;32m---> 64\u001b[1;33m                                                     int(ignore_missing))\n\u001b[0m\u001b[0;32m     65\u001b[0m \u001b[1;33m\u001b[0m\u001b[0m\n\u001b[0;32m     66\u001b[0m     \u001b[1;32mdef\u001b[0m \u001b[0msave\u001b[0m\u001b[1;33m(\u001b[0m\u001b[0mself\u001b[0m\u001b[1;33m,\u001b[0m \u001b[0mfilename\u001b[0m\u001b[1;33m)\u001b[0m\u001b[1;33m:\u001b[0m\u001b[1;33m\u001b[0m\u001b[0m\n",
      "\u001b[1;32mglove\\corpus_cython.pyx\u001b[0m in \u001b[0;36mglove.corpus_cython.construct_cooccurrence_matrix\u001b[1;34m()\u001b[0m\n",
      "\u001b[1;31mTypeError\u001b[0m: Expected list, got str"
     ]
    }
   ],
   "source": [
    "corpus = Corpus()\n",
    "corpus.fit(sentences,window=10)\n",
    "\n",
    "# glove = Glove(no_components=100, learning_rate=0.05)\n",
    " \n",
    "# glove.fit(corpus.matrix, epochs=30, no_threads=4, verbose=True)\n",
    "# print(sentences[0])"
   ]
  },
  {
   "cell_type": "code",
   "execution_count": 5,
   "metadata": {},
   "outputs": [
    {
     "name": "stdout",
     "output_type": "stream",
     "text": [
      "# conda environments:\n",
      "#\n",
      "root                  *  C:\\ProgramData\\Anaconda3\n",
      "\n"
     ]
    }
   ],
   "source": []
  },
  {
   "cell_type": "code",
   "execution_count": null,
   "metadata": {
    "collapsed": true
   },
   "outputs": [],
   "source": []
  }
 ],
 "metadata": {
  "kernelspec": {
   "display_name": "Python 3",
   "language": "python",
   "name": "python3"
  },
  "language_info": {
   "codemirror_mode": {
    "name": "ipython",
    "version": 3
   },
   "file_extension": ".py",
   "mimetype": "text/x-python",
   "name": "python",
   "nbconvert_exporter": "python",
   "pygments_lexer": "ipython3",
   "version": "3.6.3"
  }
 },
 "nbformat": 4,
 "nbformat_minor": 2
}
