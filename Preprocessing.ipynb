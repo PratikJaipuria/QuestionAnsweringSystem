{
 "cells": [
  {
   "cell_type": "code",
   "execution_count": 1,
   "metadata": {},
   "outputs": [
    {
     "name": "stderr",
     "output_type": "stream",
     "text": [
      "C:\\ProgramData\\Anaconda3\\lib\\site-packages\\h5py\\__init__.py:34: FutureWarning: Conversion of the second argument of issubdtype from `float` to `np.floating` is deprecated. In future, it will be treated as `np.float64 == np.dtype(float).type`.\n",
      "  from ._conv import register_converters as _register_converters\n"
     ]
    }
   ],
   "source": [
    "import json\n",
    "import pandas as pd\n",
    "import re\n",
    "import tensorflow as tf\n",
    "# from glove import Corpus, Glove\n",
    "# from gensim.models.word2vec import Text8Corpus\n"
   ]
  },
  {
   "cell_type": "code",
   "execution_count": 2,
   "metadata": {
    "collapsed": true
   },
   "outputs": [],
   "source": [
    "df = pd.read_json(\"dataset/train-v1.1.json\", encoding=\"utf-8\")"
   ]
  },
  {
   "cell_type": "code",
   "execution_count": 3,
   "metadata": {},
   "outputs": [
    {
     "data": {
      "text/html": [
       "<div>\n",
       "<style>\n",
       "    .dataframe thead tr:only-child th {\n",
       "        text-align: right;\n",
       "    }\n",
       "\n",
       "    .dataframe thead th {\n",
       "        text-align: left;\n",
       "    }\n",
       "\n",
       "    .dataframe tbody tr th {\n",
       "        vertical-align: top;\n",
       "    }\n",
       "</style>\n",
       "<table border=\"1\" class=\"dataframe\">\n",
       "  <thead>\n",
       "    <tr style=\"text-align: right;\">\n",
       "      <th></th>\n",
       "      <th>data</th>\n",
       "      <th>version</th>\n",
       "    </tr>\n",
       "  </thead>\n",
       "  <tbody>\n",
       "    <tr>\n",
       "      <th>0</th>\n",
       "      <td>{'title': 'University_of_Notre_Dame', 'paragra...</td>\n",
       "      <td>1.1</td>\n",
       "    </tr>\n",
       "    <tr>\n",
       "      <th>1</th>\n",
       "      <td>{'title': 'Beyoncé', 'paragraphs': [{'context'...</td>\n",
       "      <td>1.1</td>\n",
       "    </tr>\n",
       "    <tr>\n",
       "      <th>2</th>\n",
       "      <td>{'title': 'Montana', 'paragraphs': [{'context'...</td>\n",
       "      <td>1.1</td>\n",
       "    </tr>\n",
       "    <tr>\n",
       "      <th>3</th>\n",
       "      <td>{'title': 'Genocide', 'paragraphs': [{'context...</td>\n",
       "      <td>1.1</td>\n",
       "    </tr>\n",
       "    <tr>\n",
       "      <th>4</th>\n",
       "      <td>{'title': 'Antibiotics', 'paragraphs': [{'cont...</td>\n",
       "      <td>1.1</td>\n",
       "    </tr>\n",
       "  </tbody>\n",
       "</table>\n",
       "</div>"
      ],
      "text/plain": [
       "                                                data  version\n",
       "0  {'title': 'University_of_Notre_Dame', 'paragra...      1.1\n",
       "1  {'title': 'Beyoncé', 'paragraphs': [{'context'...      1.1\n",
       "2  {'title': 'Montana', 'paragraphs': [{'context'...      1.1\n",
       "3  {'title': 'Genocide', 'paragraphs': [{'context...      1.1\n",
       "4  {'title': 'Antibiotics', 'paragraphs': [{'cont...      1.1"
      ]
     },
     "execution_count": 3,
     "metadata": {},
     "output_type": "execute_result"
    }
   ],
   "source": [
    "df.head()"
   ]
  },
  {
   "cell_type": "code",
   "execution_count": 12,
   "metadata": {},
   "outputs": [
    {
     "data": {
      "text/plain": [
       "0    {'title': 'University_of_Notre_Dame', 'paragra...\n",
       "Name: data, dtype: object"
      ]
     },
     "execution_count": 12,
     "metadata": {},
     "output_type": "execute_result"
    }
   ],
   "source": [
    "df[0:1]['data']"
   ]
  },
  {
   "cell_type": "code",
   "execution_count": 4,
   "metadata": {},
   "outputs": [
    {
     "data": {
      "text/plain": [
       "{'paragraphs': [{'context': 'In modern molecular biology and genetics, the genome is the genetic material of an organism. It consists of DNA (or RNA in RNA viruses). The genome includes both the genes and the non-coding sequences of the DNA/RNA.',\n",
       "   'qas': [{'answers': [{'answer_start': 10,\n",
       "       'text': 'molecular biology and genetics'}],\n",
       "     'id': '56dc544814d3a41400c267bf',\n",
       "     'question': 'In what fields of science is the genome studied?'},\n",
       "    {'answers': [{'answer_start': 108, 'text': 'DNA'}],\n",
       "     'id': '56dc544814d3a41400c267c0',\n",
       "     'question': 'What is the content of the human genome?'},\n",
       "    {'answers': [{'answer_start': 116, 'text': 'RNA'}],\n",
       "     'id': '56dc544814d3a41400c267c1',\n",
       "     'question': 'What constitutes the viral genome?'}]},\n",
       "  {'context': 'The term was created in 1920 by Hans Winkler, professor of botany at the University of Hamburg, Germany. The Oxford Dictionary suggests the name to be a blend of the words gene and chromosome. However, see omics for a more thorough discussion. A few related -ome words already existed—such as biome, rhizome, forming a vocabulary into which genome fits systematically.',\n",
       "   'qas': [{'answers': [{'answer_start': 32, 'text': 'Hans Winkler'}],\n",
       "     'id': '56dc54a514d3a41400c267c5',\n",
       "     'question': 'Who coined the word genome?'},\n",
       "    {'answers': [{'answer_start': 24, 'text': '1920'}],\n",
       "     'id': '56dc54a514d3a41400c267c6',\n",
       "     'question': 'In what year was the word genome first created?'},\n",
       "    {'answers': [{'answer_start': 73, 'text': 'University of Hamburg'}],\n",
       "     'id': '56dc54a514d3a41400c267c7',\n",
       "     'question': 'At what university was Hans Winkler employed when he created the word genome?'},\n",
       "    {'answers': [{'answer_start': 293, 'text': 'biome, rhizome'}],\n",
       "     'id': '56dc54a514d3a41400c267c8',\n",
       "     'question': 'Which two similar words share etymology with genome?'}]},\n",
       "  {'context': 'Some organisms have multiple copies of chromosomes: diploid, triploid, tetraploid and so on. In classical genetics, in a sexually reproducing organism (typically eukarya) the gamete has half the number of chromosomes of the somatic cell and the genome is a full set of chromosomes in a diploid cell. The halving of the genetic material in gametes is accomplished by the segregation of homologous chromosomes during meiosis. In haploid organisms, including cells of bacteria, archaea, and in organelles including mitochondria and chloroplasts, or viruses, that similarly contain genes, the single or set of circular or linear chains of DNA (or RNA for some viruses), likewise constitute the genome. The term genome can be applied specifically to mean what is stored on a complete set of nuclear DNA (i.e., the \"nuclear genome\") but can also be applied to what is stored within organelles that contain their own DNA, as with the \"mitochondrial genome\" or the \"chloroplast genome\". Additionally, the genome can comprise non-chromosomal genetic elements such as viruses, plasmids, and transposable elements.',\n",
       "   'qas': [{'answers': [{'answer_start': 186, 'text': 'half'}],\n",
       "     'id': '56dc552f14d3a41400c267cd',\n",
       "     'question': 'A gamate has how many chromosomes relative to a somatic cell?'},\n",
       "    {'answers': [{'answer_start': 415, 'text': 'meiosis'}],\n",
       "     'id': '56dc552f14d3a41400c267ce',\n",
       "     'question': 'What process splits the chromosome between gametes?'},\n",
       "    {'answers': [{'answer_start': 512,\n",
       "       'text': 'mitochondria and chloroplasts'}],\n",
       "     'id': '56dc552f14d3a41400c267cf',\n",
       "     'question': 'What are two cellular organelles which contain genetic material?'}]},\n",
       "  {'context': 'When people say that the genome of a sexually reproducing species has been \"sequenced\", typically they are referring to a determination of the sequences of one set of autosomes and one of each type of sex chromosome, which together represent both of the possible sexes. Even in species that exist in only one sex, what is described as a \"genome sequence\" may be a composite read from the chromosomes of various individuals. Colloquially, the phrase \"genetic makeup\" is sometimes used to signify the genome of a particular individual or organism.[citation needed] The study of the global properties of genomes of related organisms is usually referred to as genomics, which distinguishes it from genetics which generally studies the properties of single genes or groups of genes.',\n",
       "   'qas': [{'answers': [{'answer_start': 656, 'text': 'genomics'}],\n",
       "     'id': '56dc561414d3a41400c267d3',\n",
       "     'question': 'What is the science that deals with the common genetic characteristics of related organisms called?'},\n",
       "    {'answers': [{'answer_start': 745,\n",
       "       'text': 'single genes or groups of genes'}],\n",
       "     'id': '56dc561414d3a41400c267d4',\n",
       "     'question': 'In contrast to genomics, genetics usually studies what?'},\n",
       "    {'answers': [{'answer_start': 76, 'text': 'sequenced'}],\n",
       "     'id': '56dc561414d3a41400c267d5',\n",
       "     'question': \"What is the catalog of contents of a particular species' genetic makeup?\"}]},\n",
       "  {'context': 'Both the number of base pairs and the number of genes vary widely from one species to another, and there is only a rough correlation between the two (an observation known as the C-value paradox). At present, the highest known number of genes is around 60,000, for the protozoan causing trichomoniasis (see List of sequenced eukaryotic genomes), almost three times as many as in the human genome.',\n",
       "   'qas': [{'answers': [{'answer_start': 178, 'text': 'C-value paradox'}],\n",
       "     'id': '56dc56a414d3a41400c267d9',\n",
       "     'question': 'What is the relation between the number of base pairs and total complement of genes in a species called?'},\n",
       "    {'answers': [{'answer_start': 286, 'text': 'trichomoniasis'}],\n",
       "     'id': '56dc56a414d3a41400c267da',\n",
       "     'question': 'Which organism has the most genes?'},\n",
       "    {'answers': [{'answer_start': 252, 'text': '60,000'}],\n",
       "     'id': '56dc56a414d3a41400c267db',\n",
       "     'question': 'How many genes is the trichomoniasis estimated to have?'},\n",
       "    {'answers': [{'answer_start': 352, 'text': 'three times'}],\n",
       "     'id': '56dc56a414d3a41400c267dc',\n",
       "     'question': 'Relative to the human genome, how many more genes does trichomoniasis have?'}]},\n",
       "  {'context': 'In 1976, Walter Fiers at the University of Ghent (Belgium) was the first to establish the complete nucleotide sequence of a viral RNA-genome (Bacteriophage MS2). The next year Fred Sanger completed the first DNA-genome sequence: Phage Φ-X174, of 5386 base pairs. The first complete genome sequences among all three domains of life were released within a short period during the mid-1990s: The first bacterial genome to be sequenced was that of Haemophilus influenzae, completed by a team at The Institute for Genomic Research in 1995. A few months later, the first eukaryotic genome was completed, with sequences of the 16 chromosomes of budding yeast Saccharomyces cerevisiae published as the result of a European-led effort begun in the mid-1980s. The first genome sequence for an archaeon, Methanococcus jannaschii, was completed in 1996, again by The Institute for Genomic Research.',\n",
       "   'qas': [{'answers': [{'answer_start': 9, 'text': 'Walter Fiers'}],\n",
       "     'id': '56dc575814d3a41400c267e1',\n",
       "     'question': 'Who was the first person to sequence a viral genome?'},\n",
       "    {'answers': [{'answer_start': 142, 'text': 'Bacteriophage MS2'}],\n",
       "     'id': '56dc575814d3a41400c267e2',\n",
       "     'question': 'Which viral genome did Fiers sequence?'},\n",
       "    {'answers': [{'answer_start': 176, 'text': 'Fred Sanger'}],\n",
       "     'id': '56dc575814d3a41400c267e3',\n",
       "     'question': 'Who was first to sequence a DNA-based genome?'},\n",
       "    {'answers': [{'answer_start': 495,\n",
       "       'text': 'Institute for Genomic Research'}],\n",
       "     'id': '56dc575814d3a41400c267e4',\n",
       "     'question': 'What organization first sequenced a bacterial genome?'},\n",
       "    {'answers': [{'answer_start': 836, 'text': '1996'}],\n",
       "     'id': '56dc575814d3a41400c267e5',\n",
       "     'question': 'In what year was the archaeon genome sequenced?'}]},\n",
       "  {'context': 'The development of new technologies has made it dramatically easier and cheaper to do sequencing, and the number of complete genome sequences is growing rapidly. The US National Institutes of Health maintains one of several comprehensive databases of genomic information. Among the thousands of completed genome sequencing projects include those for rice, a mouse, the plant Arabidopsis thaliana, the puffer fish, and the bacteria E. coli. In December 2013, scientists first sequenced the entire genome of a Neanderthal, an extinct species of humans. The genome was extracted from the toe bone of a 130,000-year-old Neanderthal found in a Siberian cave.',\n",
       "   'qas': [{'answers': [{'answer_start': 166,\n",
       "       'text': 'US National Institutes of Health'}],\n",
       "     'id': '56dc57f714d3a41400c267eb',\n",
       "     'question': 'Which U.S. government agency keeps a large amount of information on genomes?'},\n",
       "    {'answers': [{'answer_start': 358, 'text': 'mouse'}],\n",
       "     'id': '56dc57f714d3a41400c267ec',\n",
       "     'question': 'What is a mammal whose genome has been sequenced?'},\n",
       "    {'answers': [{'answer_start': 401, 'text': 'puffer fish'}],\n",
       "     'id': '56dc57f714d3a41400c267ed',\n",
       "     'question': 'What is a fish whose genome has been sequenced?'},\n",
       "    {'answers': [{'answer_start': 443, 'text': 'December 2013'}],\n",
       "     'id': '56dc57f714d3a41400c267ee',\n",
       "     'question': \"When was the Neanderthal's genome sequenced?\"},\n",
       "    {'answers': [{'answer_start': 599, 'text': '130,000'}],\n",
       "     'id': '56dc57f714d3a41400c267ef',\n",
       "     'question': 'How old in years was the material that was used to sequence the Neanderthal genome?'}]},\n",
       "  {'context': 'New sequencing technologies, such as massive parallel sequencing have also opened up the prospect of personal genome sequencing as a diagnostic tool, as pioneered by Manteia Predictive Medicine. A major step toward that goal was the completion in 2007 of the full genome of James D. Watson, one of the co-discoverers of the structure of DNA.',\n",
       "   'qas': [{'answers': [{'answer_start': 37,\n",
       "       'text': 'massive parallel sequencing'}],\n",
       "     'id': '56dc587714d3a41400c267f5',\n",
       "     'question': 'What is a recent development in sequencing methods?'},\n",
       "    {'answers': [{'answer_start': 166, 'text': 'Manteia Predictive Medicine'}],\n",
       "     'id': '56dc587714d3a41400c267f6',\n",
       "     'question': 'Which company has led the way in sequencing of individual genetic makeup?'},\n",
       "    {'answers': [{'answer_start': 274, 'text': 'James D. Watson'}],\n",
       "     'id': '56dc587714d3a41400c267f7',\n",
       "     'question': 'Whose complete genetic information was recorded in 2007?'},\n",
       "    {'answers': [{'answer_start': 320, 'text': 'the structure of DNA'}],\n",
       "     'id': '56dc587714d3a41400c267f8',\n",
       "     'question': 'What is Watson famous for helping discover?'}]},\n",
       "  {'context': 'Whereas a genome sequence lists the order of every DNA base in a genome, a genome map identifies the landmarks. A genome map is less detailed than a genome sequence and aids in navigating around the genome. The Human Genome Project was organized to map and to sequence the human genome. A fundamental step in the project was the release of a detailed genomic map by Jean Weissenbach and his team at the Genoscope in Paris.',\n",
       "   'qas': [{'answers': [{'answer_start': 75, 'text': 'genome map'}],\n",
       "     'id': '56dc591114d3a41400c267fd',\n",
       "     'question': 'What is the term for something that lists the important and notable parts of a genome?'},\n",
       "    {'answers': [{'answer_start': 207, 'text': 'The Human Genome Project'}],\n",
       "     'id': '56dc591114d3a41400c267fe',\n",
       "     'question': 'Which group was created to generate a genome map of human genetic material?'},\n",
       "    {'answers': [{'answer_start': 366, 'text': 'Jean Weissenbach'}],\n",
       "     'id': '56dc591114d3a41400c267ff',\n",
       "     'question': 'Whose genome map greatly aided the Human Genome Project?'},\n",
       "    {'answers': [{'answer_start': 403, 'text': 'Genoscope'}],\n",
       "     'id': '56dc591114d3a41400c26800',\n",
       "     'question': 'Where did Weissenbach and his colleagues work?'}]},\n",
       "  {'context': 'Genome composition is used to describe the make up of contents of a haploid genome, which should include genome size, proportions of non-repetitive DNA and repetitive DNA in details. By comparing the genome compositions between genomes, scientists can better understand the evolutionary history of a given genome.',\n",
       "   'qas': [{'answers': [{'answer_start': 0, 'text': 'Genome composition'}],\n",
       "     'id': '56dc5baa14d3a41400c26805',\n",
       "     'question': 'What is the term that accounts for the constituents of the haploid genome?'},\n",
       "    {'answers': [{'answer_start': 274, 'text': 'evolutionary history'}],\n",
       "     'id': '56dc5baa14d3a41400c26806',\n",
       "     'question': 'What aspect of a genome can genome compositions help researchers in learning about?'}]},\n",
       "  {'context': 'When talking about genome composition, one should distinguish between prokaryotes and eukaryotes as the big differences on contents structure they have. In prokaryotes, most of the genome (85–90%) is non-repetitive DNA, which means coding DNA mainly forms it, while non-coding regions only take a small part. On the contrary, eukaryotes have the feature of exon-intron organization of protein coding genes; the variation of repetitive DNA content in eukaryotes is also extremely high. In mammals and plants, the major part of the genome is composed of repetitive DNA.',\n",
       "   'qas': [{'answers': [{'answer_start': 70,\n",
       "       'text': 'prokaryotes and eukaryotes'}],\n",
       "     'id': '56dc5c6214d3a41400c26809',\n",
       "     'question': 'What two types of organisms have remarkable differences in their genomic composition?'},\n",
       "    {'answers': [{'answer_start': 357, 'text': 'exon-intron'}],\n",
       "     'id': '56dc5c6214d3a41400c2680b',\n",
       "     'question': 'What type of organizing can be observed in eukaryote genomes?'},\n",
       "    {'answers': [{'answer_start': 488, 'text': 'mammals and plants'}],\n",
       "     'id': '56dc5c6214d3a41400c2680c',\n",
       "     'question': 'In what types of eukaryotes is there a large amount of non-coding DNA?'}]},\n",
       "  {'context': 'Most biological entities that are more complex than a virus sometimes or always carry additional genetic material besides that which resides in their chromosomes. In some contexts, such as sequencing the genome of a pathogenic microbe, \"genome\" is meant to include information stored on this auxiliary material, which is carried in plasmids. In such circumstances then, \"genome\" describes all of the genes and information on non-coding DNA that have the potential to be present.',\n",
       "   'qas': [{'answers': [{'answer_start': 216, 'text': 'pathogenic microbe'}],\n",
       "     'id': '56dc5cf614d3a41400c26811',\n",
       "     'question': 'What is an example of an organism that has a portion of its genetic material outside of its chromosomes?'},\n",
       "    {'answers': [{'answer_start': 54, 'text': 'virus'}],\n",
       "     'id': '56dc5cf614d3a41400c26812',\n",
       "     'question': 'What is an example of an organism whose full complement of genetic material resides in its chromosomes?'},\n",
       "    {'answers': [{'answer_start': 332, 'text': 'plasmids'}],\n",
       "     'id': '56dc5cf614d3a41400c26813',\n",
       "     'question': 'Where is additional genetic material found in pathogenic microbes?'}]},\n",
       "  {'context': 'In eukaryotes such as plants, protozoa and animals, however, \"genome\" carries the typical connotation of only information on chromosomal DNA. So although these organisms contain chloroplasts or mitochondria that have their own DNA, the genetic information contained by DNA within these organelles is not considered part of the genome. In fact, mitochondria are sometimes said to have their own genome often referred to as the \"mitochondrial genome\". The DNA found within the chloroplast may be referred to as the \"plastome\".',\n",
       "   'qas': [{'answers': [{'answer_start': 22,\n",
       "       'text': 'plants, protozoa and animals'}],\n",
       "     'id': '56dc5d6c14d3a41400c26817',\n",
       "     'question': 'What are examples of classes of eukaryotes where genome only refers to the information found in chromosomes?'},\n",
       "    {'answers': [{'answer_start': 514, 'text': 'plastome'}],\n",
       "     'id': '56dc5d6c14d3a41400c26819',\n",
       "     'question': 'What is a name for the genetic material found within chloroplasts?'},\n",
       "    {'answers': [{'answer_start': 427, 'text': 'mitochondrial genome'}],\n",
       "     'id': '56dc5d6c14d3a41400c2681a',\n",
       "     'question': 'What is a name for the genetic makeup of mitochondria?'}]},\n",
       "  {'context': 'Genome size is the total number of DNA base pairs in one copy of a haploid genome. The genome size is positively correlated with the morphological complexity among prokaryotes and lower eukaryotes; however, after mollusks and all the other higher eukaryotes above, this correlation is no longer effective. This phenomenon also indicates the mighty influence coming from repetitive DNA act on the genomes.',\n",
       "   'qas': [{'answers': [{'answer_start': 0, 'text': 'Genome size'}],\n",
       "     'id': '56dc5de314d3a41400c2681f',\n",
       "     'question': 'What is the name for the count of all DNA base pairs in a single haploid genome?'},\n",
       "    {'answers': [{'answer_start': 133, 'text': 'morphological complexity'}],\n",
       "     'id': '56dc5de314d3a41400c26820',\n",
       "     'question': 'What does genome size have a direct relationship with in prokaryotes and lower eukaryotes?'},\n",
       "    {'answers': [{'answer_start': 370, 'text': 'repetitive DNA'}],\n",
       "     'id': '56dc5de314d3a41400c26821',\n",
       "     'question': 'What accounts for the breakdown of the relation between genome size and morphological complexity in higher eukaryotes?'}]},\n",
       "  {'context': 'Since genomes are very complex, one research strategy is to reduce the number of genes in a genome to the bare minimum and still have the organism in question survive. There is experimental work being done on minimal genomes for single cell organisms as well as minimal genomes for multi-cellular organisms (see Developmental biology). The work is both in vivo and in silico.',\n",
       "   'qas': [{'answers': [{'answer_start': 209, 'text': 'minimal genomes'}],\n",
       "     'id': '56dc5e7014d3a41400c26825',\n",
       "     'question': 'What is a name for the reduced complement of genetic material necessary for an organism to live?'},\n",
       "    {'answers': [{'answer_start': 353, 'text': 'in vivo and in silico'}],\n",
       "     'id': '56dc5e7014d3a41400c26826',\n",
       "     'question': 'In what experimental contexts are experiments being carried out on minimal genomes?'}]},\n",
       "  {'context': 'The proportion of non-repetitive DNA is calculated by using the length of non-repetitive DNA divided by genome size. Protein-coding genes and RNA-coding genes are generally non-repetitive DNA. A bigger genome does not mean more genes, and the proportion of non-repetitive DNA decreases along with increasing genome size in higher eukaryotes.',\n",
       "   'qas': [{'answers': [{'answer_start': 117,\n",
       "       'text': 'Protein-coding genes and RNA-coding genes'}],\n",
       "     'id': '56dc5f8a14d3a41400c26829',\n",
       "     'question': 'What are two types of non-repetitive DNA?'},\n",
       "    {'answers': [{'answer_start': 4,\n",
       "       'text': 'proportion of non-repetitive DNA'}],\n",
       "     'id': '56dc5f8a14d3a41400c2682a',\n",
       "     'question': 'In higher eukaryotes, what has an inverse relationship with genome size?'},\n",
       "    {'answers': [{'answer_start': 104, 'text': 'genome size'}],\n",
       "     'id': '56dc5f8a14d3a41400c2682b',\n",
       "     'question': 'What is the size of non-repetitive DNA divided by to get the proportion of non-repetitive DNA?'}]},\n",
       "  {'context': 'It had been found that the proportion of non-repetitive DNA can vary a lot between species. Some E. coli as prokaryotes only have non-repetitive DNA, lower eukaryotes such as C. elegans and fruit fly, still possess more non-repetitive DNA than repetitive DNA. Higher eukaryotes tend to have more repetitive DNA than non-repetitive ones. In some plants and amphibians, the proportion of non-repetitive DNA is no more than 20%, becoming a minority component.',\n",
       "   'qas': [{'answers': [{'answer_start': 97, 'text': 'E. coli'}],\n",
       "     'id': '56dc600514d3a41400c26835',\n",
       "     'question': 'What is an example of an organism which does not contain any repetitive DNA?'},\n",
       "    {'answers': [{'answer_start': 175, 'text': 'C. elegans and fruit fly'}],\n",
       "     'id': '56dc600514d3a41400c26836',\n",
       "     'question': 'What are two organisms that have more non-repetitive than repetitive DNA?'},\n",
       "    {'answers': [{'answer_start': 421, 'text': '20%'}],\n",
       "     'id': '56dc600514d3a41400c26837',\n",
       "     'question': 'What is the percentage of non-repetitive DNA in some plant and amphibian genomes?'}]},\n",
       "  {'context': 'The proportion of repetitive DNA is calculated by using length of repetitive DNA divide by genome size. There are two categories of repetitive DNA in genome: tandem repeats and interspersed repeats.',\n",
       "   'qas': [{'answers': [{'answer_start': 158,\n",
       "       'text': 'tandem repeats and interspersed repeats'}],\n",
       "     'id': '56dc604614d3a41400c2683b',\n",
       "     'question': 'What are two types of repetitive DNA found in genomes?'},\n",
       "    {'answers': [{'answer_start': 4, 'text': 'proportion of repetitive DNA'}],\n",
       "     'id': '56dc604614d3a41400c2683c',\n",
       "     'question': 'What is found by dividing size of repetitive DNA by length of total genome?'}]},\n",
       "  {'context': 'Tandem repeats are usually caused by slippage during replication, unequal crossing-over and gene conversion, satellite DNA and microsatellites are forms of tandem repeats in the genome. Although tandem repeats count for a significant proportion in genome, the largest proportion in mammalian is the other type, interspersed repeats.',\n",
       "   'qas': [{'answers': [{'answer_start': 0, 'text': 'Tandem repeats'}],\n",
       "     'id': '56dc610914d3a41400c2683f',\n",
       "     'question': 'Unequal crossing over can create what type of repetitive DNA?'},\n",
       "    {'answers': [{'answer_start': 109,\n",
       "       'text': 'satellite DNA and microsatellites'}],\n",
       "     'id': '56dc610914d3a41400c26840',\n",
       "     'question': 'What are two examples of tandem repeats in DNA?'},\n",
       "    {'answers': [{'answer_start': 311, 'text': 'interspersed repeats.'}],\n",
       "     'id': '56dc610914d3a41400c26841',\n",
       "     'question': 'What is the most common type of repetitive DNA in mammals?'}]},\n",
       "  {'context': 'Interspersed repeats mainly come from transposable elements (TEs), but they also include some protein coding gene families and pseudogenes. Transposable elements are able to integrate into the genome at another site within the cell. It is believed that TEs are an important driving force on genome evolution of higher eukaryotes. TEs can be classified into two categories, Class 1 (retrotransposons) and Class 2 (DNA transposons).',\n",
       "   'qas': [{'answers': [{'answer_start': 140,\n",
       "       'text': 'Transposable elements'}],\n",
       "     'id': '56dc63c214d3a41400c26845',\n",
       "     'question': 'What is the main source of interspersed repeats?'},\n",
       "    {'answers': [{'answer_start': 291, 'text': 'genome evolution'}],\n",
       "     'id': '56dc63c214d3a41400c26846',\n",
       "     'question': 'What do researchers think transposable elements are key factors in when considering higher eukaryotes?'},\n",
       "    {'answers': [{'answer_start': 382, 'text': 'retrotransposons'}],\n",
       "     'id': '56dc63c214d3a41400c26847',\n",
       "     'question': 'What are the constituents of Class 1 transposable elements?'},\n",
       "    {'answers': [{'answer_start': 413, 'text': 'DNA transposons'}],\n",
       "     'id': '56dc63c214d3a41400c26848',\n",
       "     'question': 'What are the constituents of Class 2 transposable elements?'}]},\n",
       "  {'context': 'Retrotransposons can be transcribed into RNA, which are then duplicated at another site into the genome. Retrotransposons can be divided into Long terminal repeats (LTRs) and Non-Long Terminal Repeats (Non-LTR).',\n",
       "   'qas': [{'answers': [{'answer_start': 41, 'text': 'RNA'}],\n",
       "     'id': '56dc63f014d3a41400c2684d',\n",
       "     'question': 'What kind of genetic material can be produced from retrotransposons?'}]},\n",
       "  {'context': 'DNA transposons generally move by \"cut and paste\" in the genome, but duplication has also been observed. Class 2 TEs do not use RNA as intermediate and are popular in bacteria, in metazoan it has also been found.',\n",
       "   'qas': [{'answers': [{'answer_start': 35, 'text': 'cut and paste'}],\n",
       "     'id': '56dc648d14d3a41400c26851',\n",
       "     'question': 'What is a term that can describe how DNA transposons move?'},\n",
       "    {'answers': [{'answer_start': 128, 'text': 'RNA'}],\n",
       "     'id': '56dc648d14d3a41400c26852',\n",
       "     'question': 'DNA transposons do not use which genetic material used by Class 1 TEs?'}]},\n",
       "  {'context': \"Genomes are more than the sum of an organism's genes and have traits that may be measured and studied without reference to the details of any particular genes and their products. Researchers compare traits such as chromosome number (karyotype), genome size, gene order, codon usage bias, and GC-content to determine what mechanisms could have produced the great variety of genomes that exist today (for recent overviews, see Brown 2002; Saccone and Pesole 2003; Benfey and Protopapas 2004; Gibson and Muse 2004; Reese 2004; Gregory 2005).\",\n",
       "   'qas': [{'answers': [{'answer_start': 233, 'text': 'karyotype'}],\n",
       "     'id': '56dc656c14d3a41400c26857',\n",
       "     'question': 'What is another word for the total count of chromosomes?'},\n",
       "    {'answers': [{'answer_start': 245,\n",
       "       'text': 'genome size, gene order, codon usage bias, and GC-content'}],\n",
       "     'id': '56dc656c14d3a41400c26858',\n",
       "     'question': 'Aside from karyotype, what are other genomic traits studied by scientists?'}]},\n",
       "  {'context': 'Duplications play a major role in shaping the genome. Duplication may range from extension of short tandem repeats, to duplication of a cluster of genes, and all the way to duplication of entire chromosomes or even entire genomes. Such duplications are probably fundamental to the creation of genetic novelty.',\n",
       "   'qas': [{'answers': [{'answer_start': 0, 'text': 'Duplications'}],\n",
       "     'id': '56dc662314d3a41400c2685b',\n",
       "     'question': 'What type of generation of genetic material has a big part in making the genome what it is?'},\n",
       "    {'answers': [{'answer_start': 293, 'text': 'genetic novelty'}],\n",
       "     'id': '56dc662314d3a41400c2685d',\n",
       "     'question': 'What is a possible product of duplications?'}]},\n",
       "  {'context': 'Horizontal gene transfer is invoked to explain how there is often extreme similarity between small portions of the genomes of two organisms that are otherwise very distantly related. Horizontal gene transfer seems to be common among many microbes. Also, eukaryotic cells seem to have experienced a transfer of some genetic material from their chloroplast and mitochondrial genomes to their nuclear chromosomes.',\n",
       "   'qas': [{'answers': [{'answer_start': 0,\n",
       "       'text': 'Horizontal gene transfer'}],\n",
       "     'id': '56dc66bb14d3a41400c26861',\n",
       "     'question': 'What is an explanation for the resemblance between disparate parts of the genome?'},\n",
       "    {'answers': [{'answer_start': 238, 'text': 'microbes'}],\n",
       "     'id': '56dc66bb14d3a41400c26862',\n",
       "     'question': 'In which organisms does horizontal gene transfer appear to occur commonly?'},\n",
       "    {'answers': [{'answer_start': 343,\n",
       "       'text': 'chloroplast and mitochondrial genomes'}],\n",
       "     'id': '56dc66bb14d3a41400c26863',\n",
       "     'question': 'Parts of which organelle genomes are thought to have ended up in the nucleus of eukaryotic cells via transfer?'}]}],\n",
       " 'title': 'Genome'}"
      ]
     },
     "execution_count": 4,
     "metadata": {},
     "output_type": "execute_result"
    }
   ],
   "source": [
    "df.iloc[25]['data']"
   ]
  },
  {
   "cell_type": "code",
   "execution_count": 15,
   "metadata": {
    "collapsed": true
   },
   "outputs": [],
   "source": [
    "words = []\n",
    "sentences = []\n",
    "count = 0\n",
    "paragraph = []\n",
    "qasCount = []\n",
    "for index, row in df.iterrows():    \n",
    "    for each_para_list in row['data']['paragraphs']:\n",
    "        sentList = each_para_list['context'].strip().split()\n",
    "        paragraph.append(len(sentList))\n",
    "        for sent in sentList:\n",
    "            words.extend(sent.split())\n",
    "            sentences.append(sent.split())\n",
    "        for each_qas in each_para_list['qas']:\n",
    "            qas_list = each_qas['question'].strip().split()\n",
    "            words.extend(qas_list)\n",
    "            qasCount.append(len(qas_list))\n",
    "    \n",
    "#     if count > 2:\n",
    "#         break\n",
    "#     count += 1\n",
    "#             sentences = sentences + each_qas['question']\n",
    "    [w for w in words if w]\n"
   ]
  },
  {
   "cell_type": "code",
   "execution_count": 16,
   "metadata": {},
   "outputs": [
    {
     "name": "stdout",
     "output_type": "stream",
     "text": [
      "18896\n",
      "87599\n",
      "2203849\n"
     ]
    }
   ],
   "source": [
    "print(len(paragraph))\n",
    "print(len(qasCount))\n",
    "print(len(sentences))"
   ]
  },
  {
   "cell_type": "code",
   "execution_count": null,
   "metadata": {
    "collapsed": true
   },
   "outputs": [],
   "source": [
    "vocab = {}\n",
    "for w in words:\n",
    "    if w in vocab:\n",
    "        vocab[w] += 1\n",
    "    else:\n",
    "        vocab[w] = 1"
   ]
  },
  {
   "cell_type": "code",
   "execution_count": null,
   "metadata": {
    "collapsed": true
   },
   "outputs": [],
   "source": [
    "vocab_list = sorted(vocab, key=vocab.get, reverse=True)"
   ]
  },
  {
   "cell_type": "code",
   "execution_count": 7,
   "metadata": {
    "scrolled": true
   },
   "outputs": [
    {
     "name": "stdout",
     "output_type": "stream",
     "text": [
      "Performing 30 training epochs with 4 threads\n",
      "Epoch 0\n",
      "Epoch 1\n",
      "Epoch 2\n"
     ]
    },
    {
     "ename": "KeyboardInterrupt",
     "evalue": "",
     "output_type": "error",
     "traceback": [
      "\u001b[1;31m---------------------------------------------------------------------------\u001b[0m",
      "\u001b[1;31mKeyboardInterrupt\u001b[0m                         Traceback (most recent call last)",
      "\u001b[1;32m<ipython-input-7-81e50bdb9a8d>\u001b[0m in \u001b[0;36m<module>\u001b[1;34m()\u001b[0m\n\u001b[0;32m      6\u001b[0m \u001b[0mglove\u001b[0m \u001b[1;33m=\u001b[0m \u001b[0mGlove\u001b[0m\u001b[1;33m(\u001b[0m\u001b[0mno_components\u001b[0m\u001b[1;33m=\u001b[0m\u001b[1;36m100\u001b[0m\u001b[1;33m,\u001b[0m \u001b[0mlearning_rate\u001b[0m\u001b[1;33m=\u001b[0m\u001b[1;36m0.05\u001b[0m\u001b[1;33m)\u001b[0m\u001b[1;33m\u001b[0m\u001b[0m\n\u001b[0;32m      7\u001b[0m \u001b[1;33m\u001b[0m\u001b[0m\n\u001b[1;32m----> 8\u001b[1;33m \u001b[0mglove\u001b[0m\u001b[1;33m.\u001b[0m\u001b[0mfit\u001b[0m\u001b[1;33m(\u001b[0m\u001b[0mcorpus\u001b[0m\u001b[1;33m.\u001b[0m\u001b[0mmatrix\u001b[0m\u001b[1;33m,\u001b[0m \u001b[0mepochs\u001b[0m\u001b[1;33m=\u001b[0m\u001b[1;36m30\u001b[0m\u001b[1;33m,\u001b[0m \u001b[0mno_threads\u001b[0m\u001b[1;33m=\u001b[0m\u001b[1;36m4\u001b[0m\u001b[1;33m,\u001b[0m \u001b[0mverbose\u001b[0m\u001b[1;33m=\u001b[0m\u001b[1;32mTrue\u001b[0m\u001b[1;33m)\u001b[0m\u001b[1;33m\u001b[0m\u001b[0m\n\u001b[0m\u001b[0;32m      9\u001b[0m \u001b[1;31m# print(sentences[0])\u001b[0m\u001b[1;33m\u001b[0m\u001b[1;33m\u001b[0m\u001b[0m\n",
      "\u001b[1;32mC:\\ProgramData\\Anaconda3\\lib\\site-packages\\glove_python-0.1.0-py3.6-win-amd64.egg\\glove\\glove.py\u001b[0m in \u001b[0;36mfit\u001b[1;34m(self, matrix, epochs, no_threads, verbose)\u001b[0m\n\u001b[0;32m    129\u001b[0m                         \u001b[0mself\u001b[0m\u001b[1;33m.\u001b[0m\u001b[0malpha\u001b[0m\u001b[1;33m,\u001b[0m\u001b[1;33m\u001b[0m\u001b[0m\n\u001b[0;32m    130\u001b[0m                         \u001b[0mself\u001b[0m\u001b[1;33m.\u001b[0m\u001b[0mmax_loss\u001b[0m\u001b[1;33m,\u001b[0m\u001b[1;33m\u001b[0m\u001b[0m\n\u001b[1;32m--> 131\u001b[1;33m                         int(no_threads))\n\u001b[0m\u001b[0;32m    132\u001b[0m \u001b[1;33m\u001b[0m\u001b[0m\n\u001b[0;32m    133\u001b[0m             \u001b[1;32mif\u001b[0m \u001b[1;32mnot\u001b[0m \u001b[0mnp\u001b[0m\u001b[1;33m.\u001b[0m\u001b[0misfinite\u001b[0m\u001b[1;33m(\u001b[0m\u001b[0mself\u001b[0m\u001b[1;33m.\u001b[0m\u001b[0mword_vectors\u001b[0m\u001b[1;33m)\u001b[0m\u001b[1;33m.\u001b[0m\u001b[0mall\u001b[0m\u001b[1;33m(\u001b[0m\u001b[1;33m)\u001b[0m\u001b[1;33m:\u001b[0m\u001b[1;33m\u001b[0m\u001b[0m\n",
      "\u001b[1;31mKeyboardInterrupt\u001b[0m: "
     ]
    }
   ],
   "source": [
    "corpus = Corpus()\n",
    "# v = []\n",
    "# v.append(sentences)\n",
    "corpus.fit(sentences)\n",
    "\n",
    "glove = Glove(no_components=100, learning_rate=0.05)\n",
    " \n",
    "glove.fit(corpus.matrix, epochs=30, no_threads=4, verbose=True)\n",
    "# print(sentences[0])"
   ]
  },
  {
   "cell_type": "code",
   "execution_count": 8,
   "metadata": {
    "collapsed": true
   },
   "outputs": [],
   "source": [
    "glove.add_dictionary(corpus.dictionary)"
   ]
  },
  {
   "cell_type": "code",
   "execution_count": 17,
   "metadata": {},
   "outputs": [
    {
     "data": {
      "text/plain": [
       "[('House', 0.987350995394992),\n",
       " ('approval', 0.9869599231870789),\n",
       " ('origin', 0.9867473641994609),\n",
       " ('90%', 0.9867324147209517)]"
      ]
     },
     "execution_count": 17,
     "metadata": {},
     "output_type": "execute_result"
    }
   ],
   "source": [
    "glove.most_similar('friendship')"
   ]
  },
  {
   "cell_type": "code",
   "execution_count": null,
   "metadata": {
    "collapsed": true
   },
   "outputs": [],
   "source": [
    "import itertools\n",
    "# p = r'C:\\\\Users\\\\Pratik\\\\Downloads\\\\text8'\n",
    "sentencesTest = list(itertools.islice(Text8Corpus(\"dataset/text8\"),None))"
   ]
  },
  {
   "cell_type": "code",
   "execution_count": null,
   "metadata": {
    "collapsed": true
   },
   "outputs": [],
   "source": [
    "sentencesTest[0]"
   ]
  },
  {
   "cell_type": "code",
   "execution_count": null,
   "metadata": {
    "collapsed": true
   },
   "outputs": [],
   "source": [
    "# Referred : https://towardsdatascience.com/lstm-by-example-using-tensorflow-feb0c1968537\n",
    "\n",
    "def RNN(x, weights, biases):\n",
    "\n",
    "    # reshape to [1, n_input]\n",
    "    x = tf.reshape(x, [-1, n_input])\n",
    "\n",
    "    # Generate a n_input-element sequence of inputs\n",
    "    # (eg. [had] [a] [general] -> [20] [6] [33])\n",
    "    x = tf.split(x,n_input,1)\n",
    "\n",
    "    # 1-layer LSTM with n_hidden units.\n",
    "    rnn_cell = rnn.BasicLSTMCell(n_hidden)\n",
    "\n",
    "    # generate prediction\n",
    "    outputs, states = rnn.static_rnn(rnn_cell, x, dtype=tf.float32)\n",
    "\n",
    "    # there are n_input outputs but\n",
    "    # we only want the last output\n",
    "    return tf.matmul(outputs[-1], weights['out']) + biases['out']\n",
    "\n",
    "vocab_size = len(dictionary)\n",
    "n_input = 3\n",
    "# number of units in RNN cell\n",
    "n_hidden = 512\n",
    "# RNN output node weights and biases\n",
    "weights = {\n",
    "    'out': tf.Variable(tf.random_normal([n_hidden, vocab_size]))\n",
    "}\n",
    "biases = {\n",
    "    'out': tf.Variable(tf.random_normal([vocab_size]))\n",
    "}\n",
    "\n",
    "pred = RNN(x, weights, biases)\n",
    "\n",
    "# Loss and optimizer\n",
    "cost = tf.reduce_mean(tf.nn.softmax_cross_entropy_with_logits(logits=pred, labels=y))\n",
    "optimizer = tf.train.RMSPropOptimizer(learning_rate=learning_rate).minimize(cost)"
   ]
  },
  {
   "cell_type": "code",
   "execution_count": 39,
   "metadata": {},
   "outputs": [
    {
     "data": {
      "text/plain": [
       "[]"
      ]
     },
     "execution_count": 39,
     "metadata": {},
     "output_type": "execute_result"
    }
   ],
   "source": [
    "l = [1,2,3,4,5,6,7,8,9,10]\n",
    "r = l[0:-4:-1]\n",
    "r"
   ]
  },
  {
   "cell_type": "code",
   "execution_count": 26,
   "metadata": {},
   "outputs": [
    {
     "data": {
      "image/png": "[encoded data removed]",
      "text/plain": [
       "<matplotlib.figure.Figure at 0x126764e0358>"
      ]
     },
     "metadata": {},
     "output_type": "display_data"
    }
   ],
   "source": [
    "import matplotlib.pyplot as plt\n",
    "num_bins = 100 # <- number of bins for the histogram\n",
    "plt.hist(paragraph, num_bins)\n",
    "plt.xlabel('Context Length')\n",
    "plt.ylabel('Frequency')\n",
    "plt.show()"
   ]
  },
  {
   "cell_type": "code",
   "execution_count": 25,
   "metadata": {},
   "outputs": [
    {
     "data": {
      "image/png": "[encoded data removed]",
      "text/plain": [
       "<matplotlib.figure.Figure at 0x1266f33d3c8>"
      ]
     },
     "metadata": {},
     "output_type": "display_data"
    }
   ],
   "source": [
    "num_bins = 25 # <- number of bins for the histogram\n",
    "plt.hist(qasCount, num_bins)\n",
    "plt.xlabel('Questions Length')\n",
    "plt.ylabel('Frequency')\n",
    "plt.show()"
   ]
  },
  {
   "cell_type": "code",
   "execution_count": null,
   "metadata": {
    "collapsed": true
   },
   "outputs": [],
   "source": []
  }
 ],
 "metadata": {
  "kernelspec": {
   "display_name": "Python 3",
   "language": "python",
   "name": "python3"
  },
  "language_info": {
   "codemirror_mode": {
    "name": "ipython",
    "version": 3
   },
   "file_extension": ".py",
   "mimetype": "text/x-python",
   "name": "python",
   "nbconvert_exporter": "python",
   "pygments_lexer": "ipython3",
   "version": "3.6.3"
  }
 },
 "nbformat": 4,
 "nbformat_minor": 2
}
