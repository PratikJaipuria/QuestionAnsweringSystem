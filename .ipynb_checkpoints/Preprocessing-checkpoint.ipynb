{
 "cells": [
  {
   "cell_type": "code",
   "execution_count": 26,
   "metadata": {},
   "outputs": [
    {
     "name": "stderr",
     "output_type": "stream",
     "text": [
      "C:\\ProgramData\\Anaconda3\\lib\\site-packages\\h5py\\__init__.py:34: FutureWarning: Conversion of the second argument of issubdtype from `float` to `np.floating` is deprecated. In future, it will be treated as `np.float64 == np.dtype(float).type`.\n",
      "  from ._conv import register_converters as _register_converters\n"
     ]
    }
   ],
   "source": [
    "import json\n",
    "import pandas as pd\n",
    "import re\n",
    "import tensorflow as tf\n",
    "from glove import Corpus, Glove"
   ]
  },
  {
   "cell_type": "code",
   "execution_count": 2,
   "metadata": {
    "collapsed": true
   },
   "outputs": [],
   "source": [
    "df = pd.read_json(\"dataset/train-v1.1.json\", encoding=\"utf-8\")"
   ]
  },
  {
   "cell_type": "code",
   "execution_count": 3,
   "metadata": {},
   "outputs": [
    {
     "data": {
      "text/html": [
       "<div>\n",
       "<style>\n",
       "    .dataframe thead tr:only-child th {\n",
       "        text-align: right;\n",
       "    }\n",
       "\n",
       "    .dataframe thead th {\n",
       "        text-align: left;\n",
       "    }\n",
       "\n",
       "    .dataframe tbody tr th {\n",
       "        vertical-align: top;\n",
       "    }\n",
       "</style>\n",
       "<table border=\"1\" class=\"dataframe\">\n",
       "  <thead>\n",
       "    <tr style=\"text-align: right;\">\n",
       "      <th></th>\n",
       "      <th>data</th>\n",
       "      <th>version</th>\n",
       "    </tr>\n",
       "  </thead>\n",
       "  <tbody>\n",
       "    <tr>\n",
       "      <th>0</th>\n",
       "      <td>{'title': 'University_of_Notre_Dame', 'paragra...</td>\n",
       "      <td>1.1</td>\n",
       "    </tr>\n",
       "    <tr>\n",
       "      <th>1</th>\n",
       "      <td>{'title': 'Beyoncé', 'paragraphs': [{'context'...</td>\n",
       "      <td>1.1</td>\n",
       "    </tr>\n",
       "    <tr>\n",
       "      <th>2</th>\n",
       "      <td>{'title': 'Montana', 'paragraphs': [{'context'...</td>\n",
       "      <td>1.1</td>\n",
       "    </tr>\n",
       "    <tr>\n",
       "      <th>3</th>\n",
       "      <td>{'title': 'Genocide', 'paragraphs': [{'context...</td>\n",
       "      <td>1.1</td>\n",
       "    </tr>\n",
       "    <tr>\n",
       "      <th>4</th>\n",
       "      <td>{'title': 'Antibiotics', 'paragraphs': [{'cont...</td>\n",
       "      <td>1.1</td>\n",
       "    </tr>\n",
       "  </tbody>\n",
       "</table>\n",
       "</div>"
      ],
      "text/plain": [
       "                                                data  version\n",
       "0  {'title': 'University_of_Notre_Dame', 'paragra...      1.1\n",
       "1  {'title': 'Beyoncé', 'paragraphs': [{'context'...      1.1\n",
       "2  {'title': 'Montana', 'paragraphs': [{'context'...      1.1\n",
       "3  {'title': 'Genocide', 'paragraphs': [{'context...      1.1\n",
       "4  {'title': 'Antibiotics', 'paragraphs': [{'cont...      1.1"
      ]
     },
     "execution_count": 3,
     "metadata": {},
     "output_type": "execute_result"
    }
   ],
   "source": [
    "df.head()"
   ]
  },
  {
   "cell_type": "code",
   "execution_count": 4,
   "metadata": {},
   "outputs": [
    {
     "data": {
      "text/plain": [
       "0    {'title': 'University_of_Notre_Dame', 'paragra...\n",
       "Name: data, dtype: object"
      ]
     },
     "execution_count": 4,
     "metadata": {},
     "output_type": "execute_result"
    }
   ],
   "source": [
    "df[0:1]['data']"
   ]
  },
  {
   "cell_type": "code",
   "execution_count": 5,
   "metadata": {},
   "outputs": [
    {
     "data": {
      "text/plain": [
       "{'context': 'At the age of 21 he settled in Paris. Thereafter, during the last 18 years of his life, he gave only some 30 public performances, preferring the more intimate atmosphere of the salon. He supported himself by selling his compositions and teaching piano, for which he was in high demand. Chopin formed a friendship with Franz Liszt and was admired by many of his musical contemporaries, including Robert Schumann. In 1835 he obtained French citizenship. After a failed engagement to Maria Wodzińska, from 1837 to 1847 he maintained an often troubled relationship with the French writer George Sand. A brief and unhappy visit to Majorca with Sand in 1838–39 was one of his most productive periods of composition. In his last years, he was financially supported by his admirer Jane Stirling, who also arranged for him to visit Scotland in 1848. Through most of his life, Chopin suffered from poor health. He died in Paris in 1849, probably of tuberculosis.',\n",
       " 'qas': [{'answers': [{'answer_start': 14, 'text': '21'}],\n",
       "   'id': '56cbd2f96d243a140015ed70',\n",
       "   'question': 'At what age did Frédéric move to Paris?'},\n",
       "  {'answers': [{'answer_start': 106, 'text': '30'}],\n",
       "   'id': '56cbd2f96d243a140015ed71',\n",
       "   'question': 'How many public performances was Frédéric estimated to have given during the remainder of his life?'},\n",
       "  {'answers': [{'answer_start': 415, 'text': '1835'}],\n",
       "   'id': '56cbd2f96d243a140015ed72',\n",
       "   'question': 'In what year did Frédéric obtain citizenship in France?'},\n",
       "  {'answers': [{'answer_start': 626, 'text': 'Majorca'}],\n",
       "   'id': '56cbd2f96d243a140015ed73',\n",
       "   'question': \"In what area had Frédéric's most productive period of composition taken place?\"},\n",
       "  {'answers': [{'answer_start': 939, 'text': 'tuberculosis'}],\n",
       "   'id': '56cbd2f96d243a140015ed74',\n",
       "   'question': \"What was Frédéric's most likely cause of death?\"},\n",
       "  {'answers': [{'answer_start': 31, 'text': 'Paris'}],\n",
       "   'id': '56ce0d8662d2951400fa69e8',\n",
       "   'question': 'Where did he end up living when he was 21?'},\n",
       "  {'answers': [{'answer_start': 106, 'text': '30'}],\n",
       "   'id': '56ce0d8662d2951400fa69e9',\n",
       "   'question': 'How many public shows did he perform during the last years of his life?'},\n",
       "  {'answers': [{'answer_start': 318, 'text': 'Franz Liszt'}],\n",
       "   'id': '56ce0d8662d2951400fa69ea',\n",
       "   'question': 'What other composer did Chopin develop a friendship with?'},\n",
       "  {'answers': [{'answer_start': 415, 'text': '1835'}],\n",
       "   'id': '56ce0d8662d2951400fa69eb',\n",
       "   'question': 'What year did he gain citizenship in France?'},\n",
       "  {'answers': [{'answer_start': 481, 'text': 'Maria Wodzińska'}],\n",
       "   'id': '56ce0d8662d2951400fa69ec',\n",
       "   'question': 'What is the name of the woman he had a relationship with from 1837-847?'},\n",
       "  {'answers': [{'answer_start': 14, 'text': '21'}],\n",
       "   'id': '56cf5734aab44d1400b89079',\n",
       "   'question': 'At what age did Chopin move to Paris?'},\n",
       "  {'answers': [{'answer_start': 106, 'text': '30'}],\n",
       "   'id': '56cf5734aab44d1400b8907a',\n",
       "   'question': 'During the last 18 years he lived about how many times did Chopin perform in public?'},\n",
       "  {'answers': [{'answer_start': 415, 'text': '1835'}],\n",
       "   'id': '56cf5734aab44d1400b8907c',\n",
       "   'question': 'What year did Chopin become a citizen of France?'},\n",
       "  {'answers': [{'answer_start': 773, 'text': 'Jane Stirling'}],\n",
       "   'id': '56cf5734aab44d1400b8907d',\n",
       "   'question': 'In the last years of his life who was the person that supported him financially?'},\n",
       "  {'answers': [{'answer_start': 415, 'text': '1835'}],\n",
       "   'id': '56d1cd98e7d4791d009021e6',\n",
       "   'question': 'In what year did Chopin become a French citizen?'},\n",
       "  {'answers': [{'answer_start': 773, 'text': 'Jane Stirling'}],\n",
       "   'id': '56d1cd98e7d4791d009021e7',\n",
       "   'question': 'Who gave Chopin money in the last years of his life?'},\n",
       "  {'answers': [{'answer_start': 939, 'text': 'tuberculosis'}],\n",
       "   'id': '56d1cd98e7d4791d009021e8',\n",
       "   'question': 'What was the likely cause of death for Chopin?'}]}"
      ]
     },
     "execution_count": 5,
     "metadata": {},
     "output_type": "execute_result"
    }
   ],
   "source": [
    "df.iloc[5]['data']['paragraphs'][1]"
   ]
  },
  {
   "cell_type": "code",
   "execution_count": 6,
   "metadata": {
    "collapsed": true
   },
   "outputs": [],
   "source": [
    "words = []\n",
    "sentences = \"\"\n",
    "for index, row in df.iterrows():    \n",
    "    for each_para_list in row['data']['paragraphs']:\n",
    "        words.extend(each_para_list['context'].strip().split())\n",
    "        sentences = sentences + each_para_list['context']\n",
    "        for each_qas in each_para_list['qas']:\n",
    "            words.extend(each_qas['question'].strip().split())\n",
    "            sentences = sentences + each_qas['question']\n",
    "    [w for w in words if w]"
   ]
  },
  {
   "cell_type": "code",
   "execution_count": 7,
   "metadata": {
    "collapsed": true
   },
   "outputs": [],
   "source": [
    "vocab = {}\n",
    "for w in words:\n",
    "    if w in vocab:\n",
    "        vocab[w] += 1\n",
    "    else:\n",
    "        vocab[w] = 1"
   ]
  },
  {
   "cell_type": "code",
   "execution_count": 8,
   "metadata": {
    "collapsed": true
   },
   "outputs": [],
   "source": [
    "vocab_list = sorted(vocab, key=vocab.get, reverse=True)"
   ]
  },
  {
   "cell_type": "code",
   "execution_count": 25,
   "metadata": {
    "scrolled": true
   },
   "outputs": [
    {
     "name": "stdout",
     "output_type": "stream",
     "text": [
      "Performing 30 training epochs with 4 threads\n",
      "Epoch 0\n",
      "Epoch 1\n",
      "Epoch 2\n",
      "Epoch 3\n",
      "Epoch 4\n",
      "Epoch 5\n",
      "Epoch 6\n",
      "Epoch 7\n",
      "Epoch 8\n",
      "Epoch 9\n",
      "Epoch 10\n",
      "Epoch 11\n",
      "Epoch 12\n",
      "Epoch 13\n",
      "Epoch 14\n",
      "Epoch 15\n",
      "Epoch 16\n",
      "Epoch 17\n",
      "Epoch 18\n",
      "Epoch 19\n",
      "Epoch 20\n",
      "Epoch 21\n",
      "Epoch 22\n",
      "Epoch 23\n",
      "Epoch 24\n",
      "Epoch 25\n",
      "Epoch 26\n",
      "Epoch 27\n",
      "Epoch 28\n",
      "Epoch 29\n"
     ]
    }
   ],
   "source": [
    "corpus = Corpus()\n",
    "v = []\n",
    "v.append(vocab_list)\n",
    "corpus.fit(v)\n",
    "\n",
    "glove = Glove(no_components=100, learning_rate=0.05)\n",
    " \n",
    "glove.fit(corpus.matrix, epochs=30, no_threads=4, verbose=True)\n",
    "# print(sentences[0])"
   ]
  },
  {
   "cell_type": "code",
   "execution_count": 28,
   "metadata": {
    "collapsed": true
   },
   "outputs": [],
   "source": [
    "glove.add_dictionary(corpus.dictionary)"
   ]
  },
  {
   "cell_type": "code",
   "execution_count": 30,
   "metadata": {},
   "outputs": [
    {
     "data": {
      "text/plain": [
       "[('diaspora)', 0.4650439227495651),\n",
       " ('SummerStage', 0.4095271802494175),\n",
       " ('\"defined', 0.4083373526731096),\n",
       " ('rooms;', 0.4040809870953119)]"
      ]
     },
     "execution_count": 30,
     "metadata": {},
     "output_type": "execute_result"
    }
   ],
   "source": [
    "glove.most_similar('man')"
   ]
  },
  {
   "cell_type": "code",
   "execution_count": 24,
   "metadata": {},
   "outputs": [
    {
     "ename": "TypeError",
     "evalue": "object of type 'Glove' has no len()",
     "output_type": "error",
     "traceback": [
      "\u001b[1;31m---------------------------------------------------------------------------\u001b[0m",
      "\u001b[1;31mTypeError\u001b[0m                                 Traceback (most recent call last)",
      "\u001b[1;32m<ipython-input-24-723e06ba0991>\u001b[0m in \u001b[0;36m<module>\u001b[1;34m()\u001b[0m\n\u001b[1;32m----> 1\u001b[1;33m \u001b[0mlen\u001b[0m\u001b[1;33m(\u001b[0m\u001b[0mglove\u001b[0m\u001b[1;33m)\u001b[0m\u001b[1;33m\u001b[0m\u001b[0m\n\u001b[0m",
      "\u001b[1;31mTypeError\u001b[0m: object of type 'Glove' has no len()"
     ]
    }
   ],
   "source": [
    "len(glove)"
   ]
  },
  {
   "cell_type": "code",
   "execution_count": null,
   "metadata": {
    "collapsed": true
   },
   "outputs": [],
   "source": [
    "# Referred : https://towardsdatascience.com/lstm-by-example-using-tensorflow-feb0c1968537\n",
    "\n",
    "def RNN(x, weights, biases):\n",
    "\n",
    "    # reshape to [1, n_input]\n",
    "    x = tf.reshape(x, [-1, n_input])\n",
    "\n",
    "    # Generate a n_input-element sequence of inputs\n",
    "    # (eg. [had] [a] [general] -> [20] [6] [33])\n",
    "    x = tf.split(x,n_input,1)\n",
    "\n",
    "    # 1-layer LSTM with n_hidden units.\n",
    "    rnn_cell = rnn.BasicLSTMCell(n_hidden)\n",
    "\n",
    "    # generate prediction\n",
    "    outputs, states = rnn.static_rnn(rnn_cell, x, dtype=tf.float32)\n",
    "\n",
    "    # there are n_input outputs but\n",
    "    # we only want the last output\n",
    "    return tf.matmul(outputs[-1], weights['out']) + biases['out']\n",
    "\n",
    "vocab_size = len(dictionary)\n",
    "n_input = 3\n",
    "# number of units in RNN cell\n",
    "n_hidden = 512\n",
    "# RNN output node weights and biases\n",
    "weights = {\n",
    "    'out': tf.Variable(tf.random_normal([n_hidden, vocab_size]))\n",
    "}\n",
    "biases = {\n",
    "    'out': tf.Variable(tf.random_normal([vocab_size]))\n",
    "}\n",
    "\n",
    "pred = RNN(x, weights, biases)\n",
    "\n",
    "# Loss and optimizer\n",
    "cost = tf.reduce_mean(tf.nn.softmax_cross_entropy_with_logits(logits=pred, labels=y))\n",
    "optimizer = tf.train.RMSPropOptimizer(learning_rate=learning_rate).minimize(cost)"
   ]
  }
 ],
 "metadata": {
  "kernelspec": {
   "display_name": "Python 3",
   "language": "python",
   "name": "python3"
  },
  "language_info": {
   "codemirror_mode": {
    "name": "ipython",
    "version": 3
   },
   "file_extension": ".py",
   "mimetype": "text/x-python",
   "name": "python",
   "nbconvert_exporter": "python",
   "pygments_lexer": "ipython3",
   "version": "3.6.3"
  }
 },
 "nbformat": 4,
 "nbformat_minor": 2
}
